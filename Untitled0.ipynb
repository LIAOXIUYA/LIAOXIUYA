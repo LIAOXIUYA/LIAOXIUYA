{
  "nbformat": 4,
  "nbformat_minor": 0,
  "metadata": {
    "colab": {
      "provenance": [],
      "authorship_tag": "ABX9TyOaWBROxmtemf/kWovq+ORN",
      "include_colab_link": true
    },
    "kernelspec": {
      "name": "python3",
      "display_name": "Python 3"
    },
    "language_info": {
      "name": "python"
    }
  },
  "cells": [
    {
      "cell_type": "markdown",
      "metadata": {
        "id": "view-in-github",
        "colab_type": "text"
      },
      "source": [
        "<a href=\"https://colab.research.google.com/github/LIAOXIUYA/LIAOXIUYA/blob/main/Untitled0.ipynb\" target=\"_parent\"><img src=\"https://colab.research.google.com/assets/colab-badge.svg\" alt=\"Open In Colab\"/></a>"
      ]
    },
    {
      "cell_type": "code",
      "execution_count": null,
      "metadata": {
        "id": "oFj_cCifGFRH"
      },
      "outputs": [],
      "source": []
    },
    {
      "cell_type": "markdown",
      "source": [
        "# Hello World\n",
        "## Hello World\n",
        "### Hello World\n",
        "#### Hello World"
      ],
      "metadata": {
        "id": "FgQAvx-NGQyX"
      }
    },
    {
      "cell_type": "markdown",
      "source": [
        "# Section 1\n",
        "# Section 2\n",
        "## Sub-section under Section 2\n",
        "### Sub-section under the sub-section under Section 2\n",
        "# Section 3"
      ],
      "metadata": {
        "id": "RBKFSoHyG6hb"
      }
    },
    {
      "cell_type": "code",
      "source": [
        "!pip install matplotlib-venn\n"
      ],
      "metadata": {
        "colab": {
          "base_uri": "https://localhost:8080/"
        },
        "id": "lJSh4bxuHlgG",
        "outputId": "4fbbf6a8-66d2-421c-8743-d3d5eb920c99"
      },
      "execution_count": 1,
      "outputs": [
        {
          "output_type": "stream",
          "name": "stdout",
          "text": [
            "Requirement already satisfied: matplotlib-venn in /usr/local/lib/python3.10/dist-packages (1.1.1)\n",
            "Requirement already satisfied: matplotlib in /usr/local/lib/python3.10/dist-packages (from matplotlib-venn) (3.7.1)\n",
            "Requirement already satisfied: numpy in /usr/local/lib/python3.10/dist-packages (from matplotlib-venn) (1.26.4)\n",
            "Requirement already satisfied: scipy in /usr/local/lib/python3.10/dist-packages (from matplotlib-venn) (1.13.1)\n",
            "Requirement already satisfied: contourpy>=1.0.1 in /usr/local/lib/python3.10/dist-packages (from matplotlib->matplotlib-venn) (1.3.0)\n",
            "Requirement already satisfied: cycler>=0.10 in /usr/local/lib/python3.10/dist-packages (from matplotlib->matplotlib-venn) (0.12.1)\n",
            "Requirement already satisfied: fonttools>=4.22.0 in /usr/local/lib/python3.10/dist-packages (from matplotlib->matplotlib-venn) (4.54.1)\n",
            "Requirement already satisfied: kiwisolver>=1.0.1 in /usr/local/lib/python3.10/dist-packages (from matplotlib->matplotlib-venn) (1.4.7)\n",
            "Requirement already satisfied: packaging>=20.0 in /usr/local/lib/python3.10/dist-packages (from matplotlib->matplotlib-venn) (24.1)\n",
            "Requirement already satisfied: pillow>=6.2.0 in /usr/local/lib/python3.10/dist-packages (from matplotlib->matplotlib-venn) (10.4.0)\n",
            "Requirement already satisfied: pyparsing>=2.3.1 in /usr/local/lib/python3.10/dist-packages (from matplotlib->matplotlib-venn) (3.2.0)\n",
            "Requirement already satisfied: python-dateutil>=2.7 in /usr/local/lib/python3.10/dist-packages (from matplotlib->matplotlib-venn) (2.8.2)\n",
            "Requirement already satisfied: six>=1.5 in /usr/local/lib/python3.10/dist-packages (from python-dateutil>=2.7->matplotlib->matplotlib-venn) (1.16.0)\n"
          ]
        }
      ]
    },
    {
      "cell_type": "code",
      "source": [
        "# https://pypi.python.org/pypi/libarchive\n",
        "!apt-get -qq install -y libarchive-dev && pip install -U libarchive\n",
        "import libarchive\n"
      ],
      "metadata": {
        "colab": {
          "base_uri": "https://localhost:8080/",
          "height": 812
        },
        "id": "Hb3x8y-pH44A",
        "outputId": "349f403b-c9f9-4ad2-b14d-7a3d4bbc0326"
      },
      "execution_count": 2,
      "outputs": [
        {
          "output_type": "stream",
          "name": "stdout",
          "text": [
            "Selecting previously unselected package libarchive-dev:amd64.\n",
            "(Reading database ... 123622 files and directories currently installed.)\n",
            "Preparing to unpack .../libarchive-dev_3.6.0-1ubuntu1.2_amd64.deb ...\n",
            "Unpacking libarchive-dev:amd64 (3.6.0-1ubuntu1.2) ...\n",
            "Setting up libarchive-dev:amd64 (3.6.0-1ubuntu1.2) ...\n",
            "Processing triggers for man-db (2.10.2-1) ...\n",
            "Collecting libarchive\n",
            "  Downloading libarchive-0.4.7.tar.gz (23 kB)\n",
            "  Preparing metadata (setup.py) ... \u001b[?25l\u001b[?25hdone\n",
            "Collecting nose (from libarchive)\n",
            "  Downloading nose-1.3.7-py3-none-any.whl.metadata (1.7 kB)\n",
            "Downloading nose-1.3.7-py3-none-any.whl (154 kB)\n",
            "\u001b[2K   \u001b[90m━━━━━━━━━━━━━━━━━━━━━━━━━━━━━━━━━━━━━━━━\u001b[0m \u001b[32m154.7/154.7 kB\u001b[0m \u001b[31m2.4 MB/s\u001b[0m eta \u001b[36m0:00:00\u001b[0m\n",
            "\u001b[?25hBuilding wheels for collected packages: libarchive\n",
            "  \u001b[1;31merror\u001b[0m: \u001b[1msubprocess-exited-with-error\u001b[0m\n",
            "  \n",
            "  \u001b[31m×\u001b[0m \u001b[32mpython setup.py bdist_wheel\u001b[0m did not run successfully.\n",
            "  \u001b[31m│\u001b[0m exit code: \u001b[1;36m1\u001b[0m\n",
            "  \u001b[31m╰─>\u001b[0m See above for output.\n",
            "  \n",
            "  \u001b[1;35mnote\u001b[0m: This error originates from a subprocess, and is likely not a problem with pip.\n",
            "  Building wheel for libarchive (setup.py) ... \u001b[?25lerror\n",
            "\u001b[31m  ERROR: Failed building wheel for libarchive\u001b[0m\u001b[31m\n",
            "\u001b[0m\u001b[?25h  Running setup.py clean for libarchive\n",
            "Failed to build libarchive\n",
            "\u001b[31mERROR: ERROR: Failed to build installable wheels for some pyproject.toml based projects (libarchive)\u001b[0m\u001b[31m\n",
            "\u001b[0m"
          ]
        },
        {
          "output_type": "error",
          "ename": "ModuleNotFoundError",
          "evalue": "No module named 'libarchive'",
          "traceback": [
            "\u001b[0;31m---------------------------------------------------------------------------\u001b[0m",
            "\u001b[0;31mModuleNotFoundError\u001b[0m                       Traceback (most recent call last)",
            "\u001b[0;32m<ipython-input-2-5bee6841787f>\u001b[0m in \u001b[0;36m<cell line: 3>\u001b[0;34m()\u001b[0m\n\u001b[1;32m      1\u001b[0m \u001b[0;31m# https://pypi.python.org/pypi/libarchive\u001b[0m\u001b[0;34m\u001b[0m\u001b[0;34m\u001b[0m\u001b[0m\n\u001b[1;32m      2\u001b[0m \u001b[0mget_ipython\u001b[0m\u001b[0;34m(\u001b[0m\u001b[0;34m)\u001b[0m\u001b[0;34m.\u001b[0m\u001b[0msystem\u001b[0m\u001b[0;34m(\u001b[0m\u001b[0;34m'apt-get -qq install -y libarchive-dev && pip install -U libarchive'\u001b[0m\u001b[0;34m)\u001b[0m\u001b[0;34m\u001b[0m\u001b[0;34m\u001b[0m\u001b[0m\n\u001b[0;32m----> 3\u001b[0;31m \u001b[0;32mimport\u001b[0m \u001b[0mlibarchive\u001b[0m\u001b[0;34m\u001b[0m\u001b[0;34m\u001b[0m\u001b[0m\n\u001b[0m",
            "\u001b[0;31mModuleNotFoundError\u001b[0m: No module named 'libarchive'",
            "",
            "\u001b[0;31m---------------------------------------------------------------------------\u001b[0;32m\nNOTE: If your import is failing due to a missing package, you can\nmanually install dependencies using either !pip or !apt.\n\nTo install libarchive, click the button below.\n\u001b[0;31m---------------------------------------------------------------------------\u001b[0m\n"
          ],
          "errorDetails": {
            "actions": [
              {
                "action": "open_snippet",
                "actionText": "Install libarchive",
                "snippetFilter": "libarchive"
              }
            ]
          }
        }
      ]
    },
    {
      "cell_type": "code",
      "source": [
        "# --- 1. Variables and Basic Math ---\n",
        "\n",
        "# Define some variables\n",
        "a = 10\n",
        "b = 5\n",
        "\n",
        "# Perform basic math\n",
        "sum_ab = a + b\n",
        "difference = a - b\n",
        "product = a * b\n",
        "quotient = a / b\n",
        "\n",
        "# Print results\n",
        "print(\"Sum:\", sum_ab)\n",
        "print(\"Difference:\", difference)\n",
        "print(\"Product:\", product)\n",
        "print(\"Quotient:\", quotient)\n",
        "\n",
        "\n",
        "# --- 2. Input and Output ---\n",
        "\n",
        "# Taking input from the user\n",
        "name = input(\"Enter your name: \")\n",
        "age = int(input(\"Enter your age: \"))  # Convert input to integer\n",
        "\n",
        "# Display output\n",
        "print(\"Hello, \" + name + \"!\")\n",
        "print(\"You are \" + str(age) + \" years old.\")\n",
        "\n",
        "\n",
        "# --- 3. Conditionals (if-else) ---\n",
        "\n",
        "# Check if the user is an adult\n",
        "if age >= 18:\n",
        "    print(\"You are an adult.\")\n",
        "else:\n",
        "    print(\"You are a minor.\")\n",
        "\n",
        "\n",
        "# --- 4. Loops ---\n",
        "\n",
        "# Using a for loop\n",
        "print(\"Counting from 1 to 5:\")\n",
        "for i in range(1, 6):\n",
        "    print(i)\n",
        "\n",
        "# Using a while loop\n",
        "print(\"Counting down from 5 to 1:\")\n",
        "count = 5\n",
        "while count > 0:\n",
        "    print(count)\n",
        "    count -= 1\n",
        "\n",
        "\n",
        "# --- 5. Functions ---\n",
        "\n",
        "# Define a function to calculate the square of a number\n",
        "def square(x):\n",
        "    return x * x\n",
        "\n",
        "# Call the function and display the result\n",
        "num = 7\n",
        "print(\"The square of\", num, \"is\", square(num))\n",
        "\n",
        "\n",
        "# --- 6. Lists and Dictionaries ---\n",
        "\n",
        "# Working with a list\n",
        "fruits = [\"apple\", \"banana\", \"cherry\"]\n",
        "fruits.append(\"orange\")  # Add an item\n",
        "print(\"List of fruits:\", fruits)\n",
        "\n",
        "# Working with a dictionary\n",
        "person = {\n",
        "    \"name\": \"Alice\",\n",
        "    \"age\": 25,\n",
        "    \"city\": \"New York\"\n",
        "}\n",
        "print(\"Person's details:\", person)\n",
        "print(\"Name:\", person[\"name\"])\n",
        "\n",
        "\n",
        "# --- 7. Reading and Writing Data ---\n",
        "\n",
        "# Writing to a file\n",
        "with open(\"data.txt\", \"w\") as file:\n",
        "    file.write(\"Hello, this is a test file.\\n\")\n",
        "    file.write(\"Goodbye!\")\n",
        "\n",
        "# Reading from a file\n",
        "with open(\"data.txt\", \"r\") as file:\n",
        "    content = file.read()\n",
        "    print(\"File content:\\n\", content)\n"
      ],
      "metadata": {
        "colab": {
          "base_uri": "https://localhost:8080/"
        },
        "id": "MolDHHKWI_CJ",
        "outputId": "79a441e2-ffbb-41c4-dc22-e5170eac0098"
      },
      "execution_count": 4,
      "outputs": [
        {
          "output_type": "stream",
          "name": "stdout",
          "text": [
            "Sum: 15\n",
            "Difference: 5\n",
            "Product: 50\n",
            "Quotient: 2.0\n",
            "Enter your name: liaoxiuya\n",
            "Enter your age: 23\n",
            "Hello, liaoxiuya!\n",
            "You are 23 years old.\n",
            "You are an adult.\n",
            "Counting from 1 to 5:\n",
            "1\n",
            "2\n",
            "3\n",
            "4\n",
            "5\n",
            "Counting down from 5 to 1:\n",
            "5\n",
            "4\n",
            "3\n",
            "2\n",
            "1\n",
            "The square of 7 is 49\n",
            "List of fruits: ['apple', 'banana', 'cherry', 'orange']\n",
            "Person's details: {'name': 'Alice', 'age': 25, 'city': 'New York'}\n",
            "Name: Alice\n",
            "File content:\n",
            " Hello, this is a test file.\n",
            "Goodbye!\n"
          ]
        }
      ]
    }
  ]
}